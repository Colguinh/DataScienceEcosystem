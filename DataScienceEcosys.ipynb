{
 "cells": [
  {
   "cell_type": "markdown",
   "id": "0d94b5c4-8ec9-472e-9fc9-a7d516528c5a",
   "metadata": {},
   "source": [
    "# Data Science Tools and Ecosystem"
   ]
  },
  {
   "cell_type": "markdown",
   "id": "addf576d-127a-4633-a339-bcfd49d1eb55",
   "metadata": {},
   "source": [
    "En este cuaderno, se resumen las herramientas y ecosistemas de ciencia de datos."
   ]
  },
  {
   "cell_type": "markdown",
   "id": "fb9207ea-24b4-4fbf-8bb4-8af766e9b8a5",
   "metadata": {},
   "source": [
    "**Objetivos:**\n",
    "\n",
    "- Listar lenguajes populares para Ciencia de Datos  \n",
    "- Listar bibliotecas comunes para Ciencia de Datos  \n",
    "- Crear tablas en markdown  \n",
    "- Ejecutar operaciones aritméticas en código  \n",
    "- Compartir notebooks en GitHub"
   ]
  },
  {
   "cell_type": "markdown",
   "id": "1ddcd467-a58b-4b53-b331-1db2bff4f23d",
   "metadata": {},
   "source": [
    "Algunos de los lenguajes populares que utilizan los científicos de datos son:\n",
    "\n",
    "1. Python  \n",
    "2. R  \n",
    "3. SQL"
   ]
  },
  {
   "cell_type": "markdown",
   "id": "c6b78ebb-c3a4-4c4d-814d-f334383adc88",
   "metadata": {},
   "source": [
    "Algunas de las bibliotecas comúnmente utilizadas por los científicos de datos incluyen:\n",
    "\n",
    "1. Pandas  \n",
    "2. NumPy  \n",
    "3. ggplot2"
   ]
  },
  {
   "cell_type": "markdown",
   "id": "25d3c294-a234-4780-85ad-3a3f100b8d58",
   "metadata": {},
   "source": [
    "| Herramientas de Ciencia de Datos |\n",
    "| -------------------------------- |\n",
    "| Jupyter Notebook                 |\n",
    "| RStudio                         |\n",
    "| Apache Zeppelin                 |"
   ]
  },
  {
   "cell_type": "markdown",
   "id": "cc118c87-ec21-493a-bd7b-f6a021c66dfc",
   "metadata": {},
   "source": [
    "### A continuación, se presentan algunos ejemplos de evaluación de expresiones aritméticas en Python."
   ]
  },
  {
   "cell_type": "code",
   "execution_count": 9,
   "id": "96945c55-27a3-4b24-aaa5-3046711551dd",
   "metadata": {},
   "outputs": [
    {
     "data": {
      "text/plain": [
       "17"
      ]
     },
     "execution_count": 9,
     "metadata": {},
     "output_type": "execute_result"
    }
   ],
   "source": [
    "# Esta es una expresión aritmética simple para multiplicar y luego sumar enteros\n",
    "(3 * 4) + 5"
   ]
  },
  {
   "cell_type": "code",
   "execution_count": 11,
   "id": "a3455b6c-61d8-448f-9711-c468015c2948",
   "metadata": {},
   "outputs": [
    {
     "data": {
      "text/plain": [
       "3.3333333333333335"
      ]
     },
     "execution_count": 11,
     "metadata": {},
     "output_type": "execute_result"
    }
   ],
   "source": [
    "# Esto convertirá 200 minutos a horas dividiendo por 60\n",
    "200 / 60"
   ]
  },
  {
   "cell_type": "markdown",
   "id": "1c05bf5e-6254-48e8-8ffd-c2900920cbe5",
   "metadata": {},
   "source": [
    "## Autor  \n",
    "Camila Olguin Hormazabal"
   ]
  },
  {
   "cell_type": "code",
   "execution_count": null,
   "id": "311412f3-6d10-41c7-a8ed-98a5889b1056",
   "metadata": {},
   "outputs": [],
   "source": []
  }
 ],
 "metadata": {
  "kernelspec": {
   "display_name": "Python 3 (ipykernel)",
   "language": "python",
   "name": "python3"
  },
  "language_info": {
   "codemirror_mode": {
    "name": "ipython",
    "version": 3
   },
   "file_extension": ".py",
   "mimetype": "text/x-python",
   "name": "python",
   "nbconvert_exporter": "python",
   "pygments_lexer": "ipython3",
   "version": "3.12.7"
  }
 },
 "nbformat": 4,
 "nbformat_minor": 5
}
